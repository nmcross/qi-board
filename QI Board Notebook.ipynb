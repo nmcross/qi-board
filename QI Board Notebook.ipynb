{
 "cells": [
  {
   "cell_type": "code",
   "execution_count": 5,
   "metadata": {},
   "outputs": [],
   "source": [
    "from RPi import GPIO\n",
    "import time\n",
    "\n",
    "GPIO.cleanup()\n",
    "GPIO.setmode(GPIO.BOARD)\n",
    "led5=7\n",
    "led4=11\n",
    "led3=13\n",
    "led2=35\n",
    "led1=37\n",
    "reed=16\n",
    "button5=18\n",
    "button4=22\n",
    "button3=15\n",
    "button2=29\n",
    "button1=31\n",
    "\n",
    "GPIO.setup(led5, GPIO.OUT)\n",
    "GPIO.setup(led4, GPIO.OUT)\n",
    "GPIO.setup(led3, GPIO.OUT)\n",
    "GPIO.setup(led2, GPIO.OUT)\n",
    "GPIO.setup(led1, GPIO.OUT)\n",
    "GPIO.setup(button5, GPIO.IN)\n",
    "GPIO.setup(button4, GPIO.IN)\n",
    "GPIO.setup(button3, GPIO.IN)\n",
    "GPIO.setup(button2, GPIO.IN)\n",
    "GPIO.setup(button1, GPIO.IN)\n",
    "GPIO.setup(reed, GPIO.IN)\n"
   ]
  },
  {
   "cell_type": "code",
   "execution_count": 6,
   "metadata": {},
   "outputs": [],
   "source": [
    "GPIO.output(led5, GPIO.LOW)\n",
    "GPIO.output(led4, GPIO.LOW)\n",
    "GPIO.output(led3, GPIO.LOW)\n",
    "GPIO.output(led2, GPIO.LOW)\n",
    "GPIO.output(led1, GPIO.LOW)\n"
   ]
  },
  {
   "cell_type": "code",
   "execution_count": 9,
   "metadata": {},
   "outputs": [],
   "source": [
    "def buttondown(input_pin):\n",
    "#    print (\"Down on pin\", input_pin)\n",
    "    if(input_pin == button5): \n",
    "        GPIO.output(led5, GPIO.HIGH)\n",
    "        GPIO.output(led4, GPIO.LOW)\n",
    "        GPIO.output(led3, GPIO.LOW)\n",
    "        GPIO.output(led2, GPIO.LOW)\n",
    "        GPIO.output(led1, GPIO.LOW)\n",
    "    if(input_pin == button4): \n",
    "        GPIO.output(led4, GPIO.HIGH)\n",
    "        GPIO.output(led5, GPIO.LOW)\n",
    "        GPIO.output(led3, GPIO.LOW)\n",
    "        GPIO.output(led2, GPIO.LOW)\n",
    "        GPIO.output(led1, GPIO.LOW)\n",
    "    if(input_pin == button3): \n",
    "        GPIO.output(led3, GPIO.HIGH)\n",
    "        GPIO.output(led5, GPIO.LOW)\n",
    "        GPIO.output(led4, GPIO.LOW)\n",
    "        GPIO.output(led2, GPIO.LOW)\n",
    "        GPIO.output(led1, GPIO.LOW)\n",
    "    if(input_pin == button2): \n",
    "        GPIO.output(led2, GPIO.HIGH)\n",
    "        GPIO.output(led5, GPIO.LOW)\n",
    "        GPIO.output(led4, GPIO.LOW)\n",
    "        GPIO.output(led3, GPIO.LOW)\n",
    "        GPIO.output(led1, GPIO.LOW)\n",
    "    if(input_pin == button1): \n",
    "        GPIO.output(led1, GPIO.HIGH)\n",
    "        GPIO.output(led5, GPIO.LOW)\n",
    "        GPIO.output(led4, GPIO.LOW)\n",
    "        GPIO.output(led3, GPIO.LOW)\n",
    "        GPIO.output(led2, GPIO.LOW)\n",
    "\n",
    "    time.sleep(0.5)\n",
    "    \n",
    "    GPIO.output(led5, GPIO.LOW)\n",
    "    GPIO.output(led4, GPIO.LOW)\n",
    "    GPIO.output(led3, GPIO.LOW)\n",
    "    GPIO.output(led2, GPIO.LOW)\n",
    "    GPIO.output(led1, GPIO.LOW)\n",
    "    \n",
    "\n",
    "    \n",
    "def reedconnect(input_pin):\n",
    "    reed_on = GPIO.input(input_pin)\n",
    "    if (reed_on): \n",
    "        #print (\"Reed Disonnected\")\n",
    "        GPIO.output(led5, GPIO.LOW)\n",
    "        GPIO.output(led4, GPIO.LOW)\n",
    "        GPIO.output(led3, GPIO.LOW)\n",
    "        GPIO.output(led2, GPIO.LOW)\n",
    "        GPIO.output(led1, GPIO.LOW)\n",
    "\n",
    "    else:\n",
    "        #print (\"Reed Connected\")\n",
    "        GPIO.output(led5, GPIO.HIGH)\n",
    "        GPIO.output(led4, GPIO.HIGH)\n",
    "        GPIO.output(led3, GPIO.HIGH)\n",
    "        GPIO.output(led2, GPIO.HIGH)\n",
    "        GPIO.output(led1, GPIO.HIGH)\n",
    "        \n"
   ]
  },
  {
   "cell_type": "code",
   "execution_count": 8,
   "metadata": {},
   "outputs": [
    {
     "name": "stdout",
     "output_type": "stream",
     "text": [
      "Reed Disonnected\n",
      "Reed Disonnected\n",
      "Reed Connected\n",
      "Reed Connected\n",
      "Reed Connected\n",
      "Reed Connected\n",
      "Reed Disonnected\n",
      "Reed Disonnected\n",
      "Reed Connected\n",
      "Reed Connected\n",
      "Reed Disonnected\n",
      "Reed Disonnected\n",
      "Reed Connected\n",
      "Reed Connected\n",
      "Reed DisonnectedReed Disonnected\n",
      "\n",
      "Reed ConnectedReed Connected\n",
      "\n",
      "Reed DisonnectedReed Disonnected\n",
      "\n",
      "Reed Connected\n",
      "Reed Connected\n",
      "Reed Disonnected\n",
      "Reed Disonnected\n",
      "Reed Connected\n",
      "Reed Connected\n",
      "Reed DisonnectedReed Disonnected\n",
      "\n",
      "Reed Connected\n",
      "Reed Connected\n",
      "Reed Disonnected\n",
      "Reed Disonnected\n",
      "Reed Connected\n",
      "Reed Connected\n",
      "Reed Disonnected\n",
      "Reed Disonnected\n",
      "Reed Connected\n",
      "Reed Connected\n",
      "Reed Disonnected\n",
      "Reed Disonnected\n",
      "Reed Disonnected\n",
      "Reed Disonnected\n",
      "Reed Connected\n",
      "Reed Connected\n"
     ]
    }
   ],
   "source": [
    "\n",
    "GPIO.add_event_detect(button5, GPIO.FALLING, callback=buttondown,  bouncetime=500)\n",
    "GPIO.add_event_detect(button4, GPIO.FALLING, callback=buttondown,  bouncetime=500)\n",
    "GPIO.add_event_detect(button3, GPIO.FALLING, callback=buttondown,  bouncetime=500)\n",
    "GPIO.add_event_detect(button2, GPIO.FALLING, callback=buttondown,  bouncetime=500)\n",
    "GPIO.add_event_detect(button1, GPIO.FALLING, callback=buttondown,  bouncetime=500)\n",
    "GPIO.add_event_detect(reed, GPIO.BOTH, callback=reedconnect, bouncetime=1000)\n"
   ]
  },
  {
   "cell_type": "code",
   "execution_count": null,
   "metadata": {},
   "outputs": [],
   "source": [
    "switch = 0\n",
    "count = 0\n",
    "while(True):\n",
    "    if (switch % 5 == 0):\n",
    "        GPIO.output(led5, GPIO.LOW)\n",
    "        GPIO.output(led4, GPIO.HIGH)\n",
    "        switch=1\n",
    "    elif (switch % 5 == 1):\n",
    "        GPIO.output(led5, GPIO.HIGH)\n",
    "        GPIO.output(led4, GPIO.LOW)\n",
    "        switch=0\n",
    "    time.sleep(0.1)"
   ]
  },
  {
   "cell_type": "code",
   "execution_count": null,
   "metadata": {},
   "outputs": [],
   "source": [
    "while GPIO.input(button1) == 1:\n",
    "    time.sleep(0.01)\n",
    "    \n",
    "print(\"Blah\")"
   ]
  },
  {
   "cell_type": "code",
   "execution_count": null,
   "metadata": {},
   "outputs": [],
   "source": [
    "while (True):\n",
    "    GPIO.wait_for_edge(button5, GPIO.RISING)\n",
    "    GPIO.output(led5, GPIO.HIGH)\n",
    "    GPIO.wait_for_edge(button5, GPIO.FALLING)\n",
    "    GPIO.output(led5, GPIO.LOW)\n",
    "\n",
    "    time.sleep(0.1)"
   ]
  },
  {
   "cell_type": "code",
   "execution_count": null,
   "metadata": {
    "collapsed": true
   },
   "outputs": [],
   "source": []
  },
  {
   "cell_type": "code",
   "execution_count": null,
   "metadata": {
    "collapsed": true
   },
   "outputs": [],
   "source": []
  }
 ],
 "metadata": {
  "kernelspec": {
   "display_name": "Python 3",
   "language": "python",
   "name": "python3"
  },
  "language_info": {
   "codemirror_mode": {
    "name": "ipython",
    "version": 3
   },
   "file_extension": ".py",
   "mimetype": "text/x-python",
   "name": "python",
   "nbconvert_exporter": "python",
   "pygments_lexer": "ipython3",
   "version": "3.4.2"
  }
 },
 "nbformat": 4,
 "nbformat_minor": 2
}
